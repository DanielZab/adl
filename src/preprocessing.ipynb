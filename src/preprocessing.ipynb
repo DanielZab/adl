{
 "cells": [
  {
   "cell_type": "code",
   "execution_count": 20,
   "metadata": {},
   "outputs": [
    {
     "name": "stdout",
     "output_type": "stream",
     "text": [
      "The autoreload extension is already loaded. To reload it, use:\n",
      "  %reload_ext autoreload\n"
     ]
    }
   ],
   "source": [
    "%load_ext autoreload\n",
    "%autoreload 2\n",
    "from dataset_container import DataSet\n",
    "import logging\n",
    "from util import extract_tickers, save_to_pickle\n",
    "import json, glob, os, pickle\n",
    "\n",
    "logging.basicConfig(level=logging.DEBUG)\n",
    "\n",
    "DATA_PATH = os.path.join('..', 'data')"
   ]
  },
  {
   "cell_type": "code",
   "execution_count": 21,
   "metadata": {},
   "outputs": [],
   "source": [
    "names = [\"AAPL\", \"AMD\", \"INTC\", \"NTDOY\", \"NVDA\", \"SPOT\", \"ZM\"]\n",
    "for name in names:\n",
    "\n",
    "    data = DataSet(name)\n",
    "\n",
    "    data = extract_tickers(data, data.name)\n",
    "\n",
    "    save_to_pickle(data, os.path.join(DATA_PATH, \"pickles\", f\"{data.name}.pkl\"))"
   ]
  }
 ],
 "metadata": {
  "kernelspec": {
   "display_name": "Python 3",
   "language": "python",
   "name": "python3"
  },
  "language_info": {
   "codemirror_mode": {
    "name": "ipython",
    "version": 3
   },
   "file_extension": ".py",
   "mimetype": "text/x-python",
   "name": "python",
   "nbconvert_exporter": "python",
   "pygments_lexer": "ipython3",
   "version": "3.11.0"
  }
 },
 "nbformat": 4,
 "nbformat_minor": 2
}
