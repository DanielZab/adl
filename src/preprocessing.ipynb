{
 "cells": [
  {
   "cell_type": "markdown",
   "metadata": {},
   "source": [
    "# Preprocessing\n",
    "\n",
    "This notebook is used to extract the tickers from the dataset and save them to a pickle file.\n",
    "Data normalization is done in the ppo module"
   ]
  },
  {
   "cell_type": "code",
   "execution_count": 1,
   "metadata": {},
   "outputs": [],
   "source": [
    "\n",
    "%load_ext autoreload\n",
    "%autoreload 2\n",
    "from dataset.containers import DataSet\n",
    "import logging\n",
    "from util import extract_tickers, save_to_pickle\n",
    "import json, glob, os, pickle\n",
    "\n",
    "logging.basicConfig(level=logging.DEBUG)\n",
    "\n",
    "DATA_PATH = os.path.join('..', 'data')"
   ]
  },
  {
   "cell_type": "code",
   "execution_count": 2,
   "metadata": {},
   "outputs": [],
   "source": [
    "names = [\"AAPL\", \"AMD\", \"INTC\", \"NTDOY\", \"NVDA\", \"SPOT\", \"ZM\"]\n",
    "for name in names:\n",
    "\n",
    "    data = DataSet(name)\n",
    "\n",
    "    data = extract_tickers(data, data.name)\n",
    "\n",
    "    save_to_pickle(data, os.path.join(DATA_PATH, \"pickles\", f\"{data.name}.pkl\"))"
   ]
  }
 ],
 "metadata": {
  "kernelspec": {
   "display_name": "Python 3",
   "language": "python",
   "name": "python3"
  },
  "language_info": {
   "codemirror_mode": {
    "name": "ipython",
    "version": 3
   },
   "file_extension": ".py",
   "mimetype": "text/x-python",
   "name": "python",
   "nbconvert_exporter": "python",
   "pygments_lexer": "ipython3",
   "version": "3.11.0"
  }
 },
 "nbformat": 4,
 "nbformat_minor": 2
}
