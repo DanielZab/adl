{
 "cells": [
  {
   "cell_type": "code",
   "execution_count": 22,
   "metadata": {},
   "outputs": [
    {
     "name": "stdout",
     "output_type": "stream",
     "text": [
      "The autoreload extension is already loaded. To reload it, use:\n",
      "  %reload_ext autoreload\n"
     ]
    }
   ],
   "source": [
    "%load_ext autoreload\n",
    "%autoreload 2\n",
    "from dataset_container import DataSet\n",
    "import logging\n",
    "from typing import List\n",
    "\n",
    "import json, glob, os, pickle, datetime\n",
    "from visualizer import Visualizer\n",
    "from util import extract_from_pickle\n",
    "\n",
    "logging.basicConfig(level=logging.DEBUG)\n",
    "\n",
    "PICKLES_PATH = os.path.join('..', 'data', \"pickles\")"
   ]
  },
  {
   "cell_type": "code",
   "execution_count": 24,
   "metadata": {},
   "outputs": [],
   "source": [
    "datasets = list(glob.glob(os.path.join(PICKLES_PATH, \"*.pkl\")))\n",
    "\n",
    "datasets: List[DataSet] = list([extract_from_pickle(dataset) for dataset in datasets])\n",
    "\n",
    "assert all(isinstance(dataset, DataSet) for dataset in datasets)\n"
   ]
  },
  {
   "cell_type": "code",
   "execution_count": 27,
   "metadata": {},
   "outputs": [
    {
     "name": "stdout",
     "output_type": "stream",
     "text": [
      "Selected dataset: AAPL\n"
     ]
    },
    {
     "data": {
      "text/plain": [
       "(17475, 7916, 6546)"
      ]
     },
     "execution_count": 27,
     "metadata": {},
     "output_type": "execute_result"
    }
   ],
   "source": [
    "dataset = datasets[0]\n",
    "\n",
    "print(\"Selected dataset:\", dataset.name)\n",
    "\n",
    "train_set, validation_set, test_set = dataset.train_validation_test_split(datetime.datetime(2024, 1, 1), datetime.datetime(2024, 7, 1))\n",
    "\n",
    "len(train_set), len(validation_set), len(test_set)\n"
   ]
  }
 ],
 "metadata": {
  "kernelspec": {
   "display_name": "Python 3",
   "language": "python",
   "name": "python3"
  },
  "language_info": {
   "codemirror_mode": {
    "name": "ipython",
    "version": 3
   },
   "file_extension": ".py",
   "mimetype": "text/x-python",
   "name": "python",
   "nbconvert_exporter": "python",
   "pygments_lexer": "ipython3",
   "version": "3.11.0"
  }
 },
 "nbformat": 4,
 "nbformat_minor": 2
}
